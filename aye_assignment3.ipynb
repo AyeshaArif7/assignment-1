{
 "cells": [
  {
   "cell_type": "code",
   "execution_count": 1,
   "metadata": {},
   "outputs": [
    {
     "name": "stdout",
     "output_type": "stream",
     "text": [
      "Enter first integer: 7\n",
      "Enter second integer: 3\n",
      "Enter the operation: +\n",
      "7 + 3 = 10\n"
     ]
    }
   ],
   "source": [
    "a=int(input(\"Enter first integer: \"))\n",
    "b=int(input(\"Enter second integer: \"))\n",
    "op=input(\"Enter the operation: \")\n",
    "if op == '+':\n",
    "    print(a,\"+\",b,\"=\",a+b)\n",
    "elif op == '-':\n",
    "    print(a,\"-\",b,\"=\",a-b)\n",
    "elif op == '*':\n",
    "    print(a,\"x\",b,\"=\",a*b)\n",
    "elif op == '/':\n",
    "    print(a,\"/\",b,\"=\",a/b)\n",
    "elif op == \"**\":\n",
    "    print(a,\"^(\",b,\") =\",a**b)\n",
    "else:\n",
    "    print(\"Invalid operation.\")\n"
   ]
  },
  {
   "cell_type": "code",
   "execution_count": 2,
   "metadata": {},
   "outputs": [
    {
     "name": "stdout",
     "output_type": "stream",
     "text": [
      "The list has numeric value\n"
     ]
    }
   ],
   "source": [
    "a=['m',14,'a',8,\"may\",22.1,\"oct\",20.6]\n",
    "b=[]\n",
    "for i in range(0,5):\n",
    "    if isinstance(a[i],int) or isinstance(a[i],float):\n",
    "        b.append(a[i])\n",
    "        print(\"The list has numeric value\")\n",
    "        break\n",
    "if len(b)==0:\n",
    "    print(\"The list doesnot has any numeric values\")"
   ]
  },
  {
   "cell_type": "code",
   "execution_count": 3,
   "metadata": {},
   "outputs": [
    {
     "name": "stdout",
     "output_type": "stream",
     "text": [
      "Enter a key for dictionary: 7\n",
      "Enter Value for dictionary: a\n",
      "{7: 'a'}\n"
     ]
    }
   ],
   "source": [
    "my_dic={}\n",
    "i=input(\"Enter a key for dictionary: \")\n",
    "j=input(\"Enter Value for dictionary: \")\n",
    "if j.isnumeric():\n",
    "    if i.isnumeric():\n",
    "        my_dic[int(i)]= int(j)\n",
    "        print(my_dic)\n",
    "    else:\n",
    "        my_dic[i]= int(j)\n",
    "        print(my_dic)\n",
    "elif i.isnumeric():\n",
    "    if j.isnumeric():\n",
    "        my_dic[int(i)]= int(j)\n",
    "        print(my_dic)\n",
    "    else:\n",
    "        my_dic[int(i)]= j\n",
    "        print(my_dic)\n",
    "else:\n",
    "    my_dic[i]= j\n",
    "    print(my_dic)"
   ]
  },
  {
   "cell_type": "code",
   "execution_count": 4,
   "metadata": {},
   "outputs": [
    {
     "name": "stdout",
     "output_type": "stream",
     "text": [
      "Sum of all numeric values of dictionary is: 14.55\n"
     ]
    }
   ],
   "source": [
    "my_dic={'a':\"apple\",'b' : \"ball\", 'c':7,'d': \"drum\",'e':3,\"f1\":1.6,\"f2\":2.95}\n",
    "summ=0\n",
    "for key in my_dic.values():\n",
    "    if isinstance(key,int) or isinstance(key,float):\n",
    "        summ=summ+key\n",
    "print(\"Sum of all numeric values of dictionary is:\",summ)"
   ]
  },
  {
   "cell_type": "code",
   "execution_count": 5,
   "metadata": {},
   "outputs": [
    {
     "name": "stdout",
     "output_type": "stream",
     "text": [
      "Items that duplicates in my lists are: [1, 4]\n"
     ]
    }
   ],
   "source": [
    "my_list=[1,2,3,4,1,1,4,6]\n",
    "import collections\n",
    "print(\"Items that duplicates in my lists are:\",[item for item, count in collections.Counter(my_list).items() if count > 1])"
   ]
  },
  {
   "cell_type": "code",
   "execution_count": 6,
   "metadata": {},
   "outputs": [
    {
     "name": "stdout",
     "output_type": "stream",
     "text": [
      "Enter a key: c\n",
      "The given key exist in our dictionary\n"
     ]
    }
   ],
   "source": [
    "my_dic={'a':\"apple\",'b' : \"ball\", 'c':7,'d': \"drum\",'e':3,\"f1\":1.6,\"f2\":2.95}\n",
    "key=input(\"Enter a key: \")\n",
    "for i in my_dic.keys():\n",
    "    if i ==key:\n",
    "        print(\"The given key exist in our dictionary\" )\n",
    "if key not in my_dic.keys():\n",
    "    print(\"The given key does not exist in our dictionary\" )"
   ]
  },
  {
   "cell_type": "code",
   "execution_count": null,
   "metadata": {},
   "outputs": [],
   "source": []
  }
 ],
 "metadata": {
  "kernelspec": {
   "display_name": "Python 3",
   "language": "python",
   "name": "python3"
  },
  "language_info": {
   "codemirror_mode": {
    "name": "ipython",
    "version": 3
   },
   "file_extension": ".py",
   "mimetype": "text/x-python",
   "name": "python",
   "nbconvert_exporter": "python",
   "pygments_lexer": "ipython3",
   "version": "3.7.4"
  }
 },
 "nbformat": 4,
 "nbformat_minor": 2
}
