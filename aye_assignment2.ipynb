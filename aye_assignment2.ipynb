{
 "cells": [
  {
   "cell_type": "code",
   "execution_count": 2,
   "metadata": {},
   "outputs": [
    {
     "name": "stdout",
     "output_type": "stream",
     "text": [
      "Enter marks obtained in English out of 100: 95\n",
      "Enter marks obtained in Urdu out of 100: 94\n",
      "Enter marks obtained in Mathematics out of 100: 100\n",
      "Enter marks obtained in Science out of 100: 100\n",
      "Enter marks obtained in Computer out of 100: 100\n",
      "Congratulations! You got A+ grade.\n"
     ]
    }
   ],
   "source": [
    "eng=int(input(\"Enter marks obtained in English out of 100: \"))\n",
    "urdu=int(input(\"Enter marks obtained in Urdu out of 100: \"))\n",
    "math=int(input(\"Enter marks obtained in Mathematics out of 100: \"))\n",
    "sci=int(input(\"Enter marks obtained in Science out of 100: \"))\n",
    "comp=int(input(\"Enter marks obtained in Computer out of 100: \"))\n",
    "total= eng+urdu+math+sci+comp\n",
    "percent=(total/500.0)*100.0\n",
    "if percent >= 80.0:\n",
    "    print(\"Congratulations! You got A+ grade.\")\n",
    "elif percent >= 70.0 and  percent < 80:\n",
    "    print(\"You got A grade.\")\n",
    "elif percent >=60.0 and  percent < 70:\n",
    "    print(\"You got B grade.\")\n",
    "elif percent >= 50.0 and  percent < 60:\n",
    "    print(\"You got C grade.\")\n",
    "elif percent >= 40.0 and  percent < 50:\n",
    "    print(\"You got D grade\")\n",
    "elif percent >= 33.0 and  percent < 40:\n",
    "    print(\"You got E grade.\")\n",
    "else:\n",
    "    print(\"Sorry! You are fail :( . \")"
   ]
  },
  {
   "cell_type": "code",
   "execution_count": 4,
   "metadata": {},
   "outputs": [
    {
     "name": "stdout",
     "output_type": "stream",
     "text": [
      "Enter an interger: 7\n",
      "The given number is 7 and it is an odd number.\n"
     ]
    }
   ],
   "source": [
    "x=int(input(\"Enter an interger: \"))\n",
    "if x%2 == 0:\n",
    "    print(\"The given number is\",x,\"and it is an even number.\")\n",
    "else:\n",
    "    print(\"The given number is\",x,\"and it is an odd number.\")"
   ]
  },
  {
   "cell_type": "code",
   "execution_count": 5,
   "metadata": {},
   "outputs": [
    {
     "name": "stdout",
     "output_type": "stream",
     "text": [
      "The length of given list is 5\n"
     ]
    }
   ],
   "source": [
    "a=[1,3,5,7,9]\n",
    "print(\"The length of given list is\",len(a))"
   ]
  },
  {
   "cell_type": "code",
   "execution_count": 8,
   "metadata": {},
   "outputs": [
    {
     "name": "stdout",
     "output_type": "stream",
     "text": [
      "The sum of items of list is 25\n"
     ]
    }
   ],
   "source": [
    "a=[1,3,5,7,9]\n",
    "x=0\n",
    "for i in a:\n",
    "    x += i\n",
    "print(\"The sum of items of list is\",x)"
   ]
  },
  {
   "cell_type": "code",
   "execution_count": 11,
   "metadata": {},
   "outputs": [
    {
     "name": "stdout",
     "output_type": "stream",
     "text": [
      "The largest number of given list is 9\n"
     ]
    }
   ],
   "source": [
    "b=[1,7,2,9,3]\n",
    "x=max(b)\n",
    "print(\"The largest number of given list is\",x)"
   ]
  },
  {
   "cell_type": "code",
   "execution_count": 15,
   "metadata": {},
   "outputs": [
    {
     "name": "stdout",
     "output_type": "stream",
     "text": [
      "1  1  2  3  "
     ]
    }
   ],
   "source": [
    "a=[1,1,2,3,5,8,13,21,34,55,89]\n",
    "for i in range(0,11):\n",
    "    if a[i]<5:\n",
    "        print(a[i], \" \" ,end='')"
   ]
  },
  {
   "cell_type": "code",
   "execution_count": null,
   "metadata": {},
   "outputs": [],
   "source": []
  }
 ],
 "metadata": {
  "kernelspec": {
   "display_name": "Python 3",
   "language": "python",
   "name": "python3"
  },
  "language_info": {
   "codemirror_mode": {
    "name": "ipython",
    "version": 3
   },
   "file_extension": ".py",
   "mimetype": "text/x-python",
   "name": "python",
   "nbconvert_exporter": "python",
   "pygments_lexer": "ipython3",
   "version": "3.7.4"
  }
 },
 "nbformat": 4,
 "nbformat_minor": 2
}
