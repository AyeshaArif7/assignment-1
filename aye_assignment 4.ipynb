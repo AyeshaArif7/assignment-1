{
 "cells": [
  {
   "cell_type": "code",
   "execution_count": 1,
   "metadata": {},
   "outputs": [
    {
     "name": "stdout",
     "output_type": "stream",
     "text": [
      "('first_name', 'Ayesha')\n",
      "('last_name', 'Arif')\n",
      "('age', 22)\n",
      "('city', 'Karachi.')\n",
      "{'first_name': 'Ayesha', 'last_name': 'Arif', 'age': 22, 'city': 'Karachi.', 'qualification': 'high academic level'}\n",
      "{'first_name': 'Ayesha', 'last_name': 'Arif', 'age': 22, 'city': 'Karachi.'}\n"
     ]
    }
   ],
   "source": [
    "info={\"first_name\":\"Ayesha\", \"last_name\":\"Arif\", \"age\":22,\"city\":\"Karachi.\"}\n",
    "for i in info.items():\n",
    "    print(i) \n",
    "info[\"qualification\"]=\"high academic level\"\n",
    "print(info)\n",
    "del(info[\"qualification\"])\n",
    "print(info)"
   ]
  },
  {
   "cell_type": "code",
   "execution_count": 2,
   "metadata": {},
   "outputs": [
    {
     "name": "stdout",
     "output_type": "stream",
     "text": [
      "Karachi {'country': 'Pakistan', 'population': '14.91 million', 'fact': 'largest city'}\n",
      "Lahore {'country': 'Pakistan', 'population': '11.13 million', 'fact': 'second largest city'}\n",
      "Islamabad {'country': 'Pakistan', 'population': '1.015 million', 'fact': 'Capital of Pakistan'}\n"
     ]
    }
   ],
   "source": [
    "cities={\"Karachi\":{\"country\":\"Pakistan\",\"population\":\"14.91 million\",\"fact\":\"largest city\"},\"Lahore\":{\"country\":\"Pakistan\",\"population\":\"11.13 million\",\"fact\":\"second largest city\"} ,\"Islamabad\":{\"country\":\"Pakistan\",\"population\":\"1.015 million\",\"fact\":\"Capital of Pakistan\"}}\n",
    "for i in cities:\n",
    "    print(i,cities[i])"
   ]
  },
  {
   "cell_type": "code",
   "execution_count": 3,
   "metadata": {},
   "outputs": [
    {
     "name": "stdout",
     "output_type": "stream",
     "text": [
      "Enter number of persons:2\n",
      "Enter your age: 2\n",
      "Your ticket is free kid! :)\n",
      "Enter your age: 10\n",
      "Your movie ticket is of $10\n"
     ]
    }
   ],
   "source": [
    "mem=int(input(\"Enter number of persons:\"))\n",
    "for i in range(0,mem):\n",
    "    age=int(input(\"Enter your age: \"))\n",
    "    if age<3:\n",
    "        print(\"Your ticket is free kid! :)\")\n",
    "    elif age>=3 and age<=12:\n",
    "        print(\"Your movie ticket is of $10\")\n",
    "    else:\n",
    "        print(\"Your movie ticket is of $15\")"
   ]
  },
  {
   "cell_type": "code",
   "execution_count": 4,
   "metadata": {},
   "outputs": [
    {
     "name": "stdout",
     "output_type": "stream",
     "text": [
      "Enter name of the book: Prisnor of Zenda\n",
      "One of my favourite book is Prisnor of Zenda\n"
     ]
    }
   ],
   "source": [
    "def fav_book(title):\n",
    "    print(\"One of my favourite book is \"+title)\n",
    "b_name=input(\"Enter name of the book: \")\n",
    "fav_book(b_name)"
   ]
  },
  {
   "cell_type": "code",
   "execution_count": 5,
   "metadata": {},
   "outputs": [
    {
     "name": "stdout",
     "output_type": "stream",
     "text": [
      "Enter the number: 2\n",
      "Your guessed number is smaller than correct number.\n",
      "Enter the number: 10\n",
      "Your guessed number is bigger than correct number.\n",
      "Enter the number: 7\n",
      "Your guessed number is smaller than correct number.\n",
      "Sorry! you missed all the chances.\n"
     ]
    }
   ],
   "source": [
    "from random import randrange\n",
    "a=randrange(1,30)\n",
    "for i in range(0,3):\n",
    "    b=int(input(\"Enter the number: \"))\n",
    "    if b<a:\n",
    "        print(\"Your guessed number is smaller than correct number.\")\n",
    "    elif b>a:\n",
    "        print(\"Your guessed number is bigger than correct number.\")\n",
    "    else:\n",
    "        print(\"You guesses the correct number.\")\n",
    "        break\n",
    "if b<a or b>a:\n",
    "    print(\"Sorry! you missed all the chances.\")\n",
    "else:\n",
    "    print(\"Conratulations!, You won the game!\")"
   ]
  },
  {
   "cell_type": "code",
   "execution_count": null,
   "metadata": {},
   "outputs": [],
   "source": []
  }
 ],
 "metadata": {
  "kernelspec": {
   "display_name": "Python 3",
   "language": "python",
   "name": "python3"
  },
  "language_info": {
   "codemirror_mode": {
    "name": "ipython",
    "version": 3
   },
   "file_extension": ".py",
   "mimetype": "text/x-python",
   "name": "python",
   "nbconvert_exporter": "python",
   "pygments_lexer": "ipython3",
   "version": "3.7.4"
  }
 },
 "nbformat": 4,
 "nbformat_minor": 2
}
